{
  "nbformat": 4,
  "nbformat_minor": 0,
  "metadata": {
    "colab": {
      "provenance": []
    },
    "kernelspec": {
      "name": "python3",
      "display_name": "Python 3"
    },
    "language_info": {
      "name": "python"
    }
  },
  "cells": [
    {
      "cell_type": "code",
      "execution_count": 1,
      "metadata": {
        "id": "UrdkZLpflTxP"
      },
      "outputs": [],
      "source": [
        "from pyspark.sql import SparkSession"
      ]
    },
    {
      "cell_type": "code",
      "source": [
        "spark = SparkSession.builder.appName(\"ColabSparkDemo\").getOrCreate()"
      ],
      "metadata": {
        "id": "Vqgj0RlClclg"
      },
      "execution_count": 2,
      "outputs": []
    },
    {
      "cell_type": "code",
      "source": [
        "dataj1 = [\n",
        "    ('1', 'Abubakar', 'd01'),\n",
        "    ('2', 'Umer', 'd02'),\n",
        "    ('3', 'Usman', 'd03'),\n",
        "    ('4', 'Ali', 'd03'),\n",
        "    ('5', 'Talha', 'd05'),\n",
        "    ('6', 'Amar', 'd06')\n",
        "]\n",
        "\n",
        "schemaj1 = 'emp_id STRING, emp_name STRING, dept_id STRING'\n",
        "\n",
        "df1 = spark.createDataFrame(dataj1, schemaj1)"
      ],
      "metadata": {
        "id": "Rv-QzhealmAP"
      },
      "execution_count": 22,
      "outputs": []
    },
    {
      "cell_type": "code",
      "source": [
        "dataj2 = [\n",
        "    ('d01', 'HR'),\n",
        "    ('d02', 'Nurbeting'),\n",
        "    ('d03', 'Accounts'),\n",
        "    ('d04', 'IT'),\n",
        "    ('d05', 'Finance')\n",
        "]\n",
        "\n",
        "schemaj2 = 'dept_id STRING, department STRING'\n",
        "\n",
        "df2 = spark.createDataFrame(dataj2, schemaj2)"
      ],
      "metadata": {
        "id": "U_bZLZJZmDUo"
      },
      "execution_count": 6,
      "outputs": []
    },
    {
      "cell_type": "code",
      "source": [
        "df = df1.show()"
      ],
      "metadata": {
        "colab": {
          "base_uri": "https://localhost:8080/"
        },
        "id": "_xuNsQmBmWIZ",
        "outputId": "b3cd76a4-fa53-49db-ae2c-60b1ba4d5f00"
      },
      "execution_count": 23,
      "outputs": [
        {
          "output_type": "stream",
          "name": "stdout",
          "text": [
            "+------+--------+-------+\n",
            "|emp_id|emp_name|dept_id|\n",
            "+------+--------+-------+\n",
            "|     1|Abubakar|    d01|\n",
            "|     2|    Umer|    d02|\n",
            "|     3|   Usman|    d03|\n",
            "|     4|     Ali|    d03|\n",
            "|     5|   Talha|    d05|\n",
            "|     6|    Amar|    d06|\n",
            "+------+--------+-------+\n",
            "\n"
          ]
        }
      ]
    },
    {
      "cell_type": "code",
      "source": [
        "df = df2.show()"
      ],
      "metadata": {
        "colab": {
          "base_uri": "https://localhost:8080/"
        },
        "id": "B78ndLzfmiE4",
        "outputId": "bff62c6f-daed-48b9-a8b9-9a8fc7e59845"
      },
      "execution_count": 18,
      "outputs": [
        {
          "output_type": "stream",
          "name": "stdout",
          "text": [
            "+-------+----------+\n",
            "|dept_id|department|\n",
            "+-------+----------+\n",
            "|    d01|        HR|\n",
            "|    d02| Nurbeting|\n",
            "|    d03|  Accounts|\n",
            "|    d04|        IT|\n",
            "|    d05|   Finance|\n",
            "+-------+----------+\n",
            "\n"
          ]
        }
      ]
    },
    {
      "cell_type": "markdown",
      "source": [
        "Joins"
      ],
      "metadata": {
        "id": "PUnbUX1smmp4"
      }
    },
    {
      "cell_type": "code",
      "source": [
        "#inner Join\n",
        "df1.join(df2, df1['dept_id'] == df2['dept_id'], 'inner').show()"
      ],
      "metadata": {
        "colab": {
          "base_uri": "https://localhost:8080/"
        },
        "id": "wB6kKGOPmpyQ",
        "outputId": "6bfb8692-a1da-4cfa-b7e0-8f85e1a40e93"
      },
      "execution_count": 24,
      "outputs": [
        {
          "output_type": "stream",
          "name": "stdout",
          "text": [
            "+------+--------+-------+-------+----------+\n",
            "|emp_id|emp_name|dept_id|dept_id|department|\n",
            "+------+--------+-------+-------+----------+\n",
            "|     1|Abubakar|    d01|    d01|        HR|\n",
            "|     2|    Umer|    d02|    d02| Nurbeting|\n",
            "|     3|   Usman|    d03|    d03|  Accounts|\n",
            "|     4|     Ali|    d03|    d03|  Accounts|\n",
            "|     5|   Talha|    d05|    d05|   Finance|\n",
            "+------+--------+-------+-------+----------+\n",
            "\n"
          ]
        }
      ]
    },
    {
      "cell_type": "code",
      "source": [
        "#left join\n",
        "df1.join(df2, df1['dept_id']==df2['dept_id'], 'left').show()"
      ],
      "metadata": {
        "colab": {
          "base_uri": "https://localhost:8080/"
        },
        "id": "KI58Vvm-qhS5",
        "outputId": "5667cf27-8c9a-494b-c98b-2d440ac83560"
      },
      "execution_count": 25,
      "outputs": [
        {
          "output_type": "stream",
          "name": "stdout",
          "text": [
            "+------+--------+-------+-------+----------+\n",
            "|emp_id|emp_name|dept_id|dept_id|department|\n",
            "+------+--------+-------+-------+----------+\n",
            "|     1|Abubakar|    d01|    d01|        HR|\n",
            "|     3|   Usman|    d03|    d03|  Accounts|\n",
            "|     2|    Umer|    d02|    d02| Nurbeting|\n",
            "|     4|     Ali|    d03|    d03|  Accounts|\n",
            "|     6|    Amar|    d06|   NULL|      NULL|\n",
            "|     5|   Talha|    d05|    d05|   Finance|\n",
            "+------+--------+-------+-------+----------+\n",
            "\n"
          ]
        }
      ]
    },
    {
      "cell_type": "code",
      "source": [
        "#right join\n",
        "df1.join(df2, df1['dept_id']==df2['dept_id'], 'right').show()"
      ],
      "metadata": {
        "colab": {
          "base_uri": "https://localhost:8080/"
        },
        "id": "TfD34Ij2uszp",
        "outputId": "5b3712ee-fbcc-4f51-b7d7-d2b234959f09"
      },
      "execution_count": 27,
      "outputs": [
        {
          "output_type": "stream",
          "name": "stdout",
          "text": [
            "+------+--------+-------+-------+----------+\n",
            "|emp_id|emp_name|dept_id|dept_id|department|\n",
            "+------+--------+-------+-------+----------+\n",
            "|     1|Abubakar|    d01|    d01|        HR|\n",
            "|     2|    Umer|    d02|    d02| Nurbeting|\n",
            "|     4|     Ali|    d03|    d03|  Accounts|\n",
            "|     3|   Usman|    d03|    d03|  Accounts|\n",
            "|  NULL|    NULL|   NULL|    d04|        IT|\n",
            "|     5|   Talha|    d05|    d05|   Finance|\n",
            "+------+--------+-------+-------+----------+\n",
            "\n"
          ]
        }
      ]
    },
    {
      "cell_type": "code",
      "source": [
        "#Anti Join\n",
        "df1.join(df2, df1['dept_id']==df2['dept_id'], 'anti').show()"
      ],
      "metadata": {
        "colab": {
          "base_uri": "https://localhost:8080/"
        },
        "id": "aFGR2gotyNiQ",
        "outputId": "75d94c9e-3a7e-404b-a52b-d8666758f876"
      },
      "execution_count": 28,
      "outputs": [
        {
          "output_type": "stream",
          "name": "stdout",
          "text": [
            "+------+--------+-------+\n",
            "|emp_id|emp_name|dept_id|\n",
            "+------+--------+-------+\n",
            "|     6|    Amar|    d06|\n",
            "+------+--------+-------+\n",
            "\n"
          ]
        }
      ]
    },
    {
      "cell_type": "markdown",
      "source": [
        "Window Functions"
      ],
      "metadata": {
        "id": "ZU1xaV911jIv"
      }
    },
    {
      "cell_type": "markdown",
      "source": [
        "Import the Dataset"
      ],
      "metadata": {
        "id": "0B3W2PBr9mhq"
      }
    },
    {
      "cell_type": "code",
      "source": [
        "from google.colab import files\n",
        "\n",
        "uploaded = files.upload()"
      ],
      "metadata": {
        "colab": {
          "base_uri": "https://localhost:8080/",
          "height": 73
        },
        "id": "WPMXO9g28PJp",
        "outputId": "f4ab22cd-e7c6-44c4-d5c3-d6e05b705b15"
      },
      "execution_count": 30,
      "outputs": [
        {
          "output_type": "display_data",
          "data": {
            "text/plain": [
              "<IPython.core.display.HTML object>"
            ],
            "text/html": [
              "\n",
              "     <input type=\"file\" id=\"files-97813fbb-c8ce-4d3a-b6b7-f3e0807e4c93\" name=\"files[]\" multiple disabled\n",
              "        style=\"border:none\" />\n",
              "     <output id=\"result-97813fbb-c8ce-4d3a-b6b7-f3e0807e4c93\">\n",
              "      Upload widget is only available when the cell has been executed in the\n",
              "      current browser session. Please rerun this cell to enable.\n",
              "      </output>\n",
              "      <script>// Copyright 2017 Google LLC\n",
              "//\n",
              "// Licensed under the Apache License, Version 2.0 (the \"License\");\n",
              "// you may not use this file except in compliance with the License.\n",
              "// You may obtain a copy of the License at\n",
              "//\n",
              "//      http://www.apache.org/licenses/LICENSE-2.0\n",
              "//\n",
              "// Unless required by applicable law or agreed to in writing, software\n",
              "// distributed under the License is distributed on an \"AS IS\" BASIS,\n",
              "// WITHOUT WARRANTIES OR CONDITIONS OF ANY KIND, either express or implied.\n",
              "// See the License for the specific language governing permissions and\n",
              "// limitations under the License.\n",
              "\n",
              "/**\n",
              " * @fileoverview Helpers for google.colab Python module.\n",
              " */\n",
              "(function(scope) {\n",
              "function span(text, styleAttributes = {}) {\n",
              "  const element = document.createElement('span');\n",
              "  element.textContent = text;\n",
              "  for (const key of Object.keys(styleAttributes)) {\n",
              "    element.style[key] = styleAttributes[key];\n",
              "  }\n",
              "  return element;\n",
              "}\n",
              "\n",
              "// Max number of bytes which will be uploaded at a time.\n",
              "const MAX_PAYLOAD_SIZE = 100 * 1024;\n",
              "\n",
              "function _uploadFiles(inputId, outputId) {\n",
              "  const steps = uploadFilesStep(inputId, outputId);\n",
              "  const outputElement = document.getElementById(outputId);\n",
              "  // Cache steps on the outputElement to make it available for the next call\n",
              "  // to uploadFilesContinue from Python.\n",
              "  outputElement.steps = steps;\n",
              "\n",
              "  return _uploadFilesContinue(outputId);\n",
              "}\n",
              "\n",
              "// This is roughly an async generator (not supported in the browser yet),\n",
              "// where there are multiple asynchronous steps and the Python side is going\n",
              "// to poll for completion of each step.\n",
              "// This uses a Promise to block the python side on completion of each step,\n",
              "// then passes the result of the previous step as the input to the next step.\n",
              "function _uploadFilesContinue(outputId) {\n",
              "  const outputElement = document.getElementById(outputId);\n",
              "  const steps = outputElement.steps;\n",
              "\n",
              "  const next = steps.next(outputElement.lastPromiseValue);\n",
              "  return Promise.resolve(next.value.promise).then((value) => {\n",
              "    // Cache the last promise value to make it available to the next\n",
              "    // step of the generator.\n",
              "    outputElement.lastPromiseValue = value;\n",
              "    return next.value.response;\n",
              "  });\n",
              "}\n",
              "\n",
              "/**\n",
              " * Generator function which is called between each async step of the upload\n",
              " * process.\n",
              " * @param {string} inputId Element ID of the input file picker element.\n",
              " * @param {string} outputId Element ID of the output display.\n",
              " * @return {!Iterable<!Object>} Iterable of next steps.\n",
              " */\n",
              "function* uploadFilesStep(inputId, outputId) {\n",
              "  const inputElement = document.getElementById(inputId);\n",
              "  inputElement.disabled = false;\n",
              "\n",
              "  const outputElement = document.getElementById(outputId);\n",
              "  outputElement.innerHTML = '';\n",
              "\n",
              "  const pickedPromise = new Promise((resolve) => {\n",
              "    inputElement.addEventListener('change', (e) => {\n",
              "      resolve(e.target.files);\n",
              "    });\n",
              "  });\n",
              "\n",
              "  const cancel = document.createElement('button');\n",
              "  inputElement.parentElement.appendChild(cancel);\n",
              "  cancel.textContent = 'Cancel upload';\n",
              "  const cancelPromise = new Promise((resolve) => {\n",
              "    cancel.onclick = () => {\n",
              "      resolve(null);\n",
              "    };\n",
              "  });\n",
              "\n",
              "  // Wait for the user to pick the files.\n",
              "  const files = yield {\n",
              "    promise: Promise.race([pickedPromise, cancelPromise]),\n",
              "    response: {\n",
              "      action: 'starting',\n",
              "    }\n",
              "  };\n",
              "\n",
              "  cancel.remove();\n",
              "\n",
              "  // Disable the input element since further picks are not allowed.\n",
              "  inputElement.disabled = true;\n",
              "\n",
              "  if (!files) {\n",
              "    return {\n",
              "      response: {\n",
              "        action: 'complete',\n",
              "      }\n",
              "    };\n",
              "  }\n",
              "\n",
              "  for (const file of files) {\n",
              "    const li = document.createElement('li');\n",
              "    li.append(span(file.name, {fontWeight: 'bold'}));\n",
              "    li.append(span(\n",
              "        `(${file.type || 'n/a'}) - ${file.size} bytes, ` +\n",
              "        `last modified: ${\n",
              "            file.lastModifiedDate ? file.lastModifiedDate.toLocaleDateString() :\n",
              "                                    'n/a'} - `));\n",
              "    const percent = span('0% done');\n",
              "    li.appendChild(percent);\n",
              "\n",
              "    outputElement.appendChild(li);\n",
              "\n",
              "    const fileDataPromise = new Promise((resolve) => {\n",
              "      const reader = new FileReader();\n",
              "      reader.onload = (e) => {\n",
              "        resolve(e.target.result);\n",
              "      };\n",
              "      reader.readAsArrayBuffer(file);\n",
              "    });\n",
              "    // Wait for the data to be ready.\n",
              "    let fileData = yield {\n",
              "      promise: fileDataPromise,\n",
              "      response: {\n",
              "        action: 'continue',\n",
              "      }\n",
              "    };\n",
              "\n",
              "    // Use a chunked sending to avoid message size limits. See b/62115660.\n",
              "    let position = 0;\n",
              "    do {\n",
              "      const length = Math.min(fileData.byteLength - position, MAX_PAYLOAD_SIZE);\n",
              "      const chunk = new Uint8Array(fileData, position, length);\n",
              "      position += length;\n",
              "\n",
              "      const base64 = btoa(String.fromCharCode.apply(null, chunk));\n",
              "      yield {\n",
              "        response: {\n",
              "          action: 'append',\n",
              "          file: file.name,\n",
              "          data: base64,\n",
              "        },\n",
              "      };\n",
              "\n",
              "      let percentDone = fileData.byteLength === 0 ?\n",
              "          100 :\n",
              "          Math.round((position / fileData.byteLength) * 100);\n",
              "      percent.textContent = `${percentDone}% done`;\n",
              "\n",
              "    } while (position < fileData.byteLength);\n",
              "  }\n",
              "\n",
              "  // All done.\n",
              "  yield {\n",
              "    response: {\n",
              "      action: 'complete',\n",
              "    }\n",
              "  };\n",
              "}\n",
              "\n",
              "scope.google = scope.google || {};\n",
              "scope.google.colab = scope.google.colab || {};\n",
              "scope.google.colab._files = {\n",
              "  _uploadFiles,\n",
              "  _uploadFilesContinue,\n",
              "};\n",
              "})(self);\n",
              "</script> "
            ]
          },
          "metadata": {}
        },
        {
          "output_type": "stream",
          "name": "stdout",
          "text": [
            "Saving BigMart Sales.csv to BigMart Sales.csv\n"
          ]
        }
      ]
    },
    {
      "cell_type": "code",
      "source": [
        "df = spark.read.csv('BigMart Sales.csv', header=True,inferSchema=True)\n",
        "\n",
        "df.show()"
      ],
      "metadata": {
        "colab": {
          "base_uri": "https://localhost:8080/"
        },
        "id": "sW9_mJuz9FmC",
        "outputId": "d574c03c-f15a-40aa-bedd-6fc4ec675d0b"
      },
      "execution_count": 31,
      "outputs": [
        {
          "output_type": "stream",
          "name": "stdout",
          "text": [
            "+---------------+-----------+----------------+---------------+--------------------+--------+-----------------+-------------------------+-----------+--------------------+-----------------+-----------------+\n",
            "|Item_Identifier|Item_Weight|Item_Fat_Content|Item_Visibility|           Item_Type|Item_MRP|Outlet_Identifier|Outlet_Establishment_Year|Outlet_Size|Outlet_Location_Type|      Outlet_Type|Item_Outlet_Sales|\n",
            "+---------------+-----------+----------------+---------------+--------------------+--------+-----------------+-------------------------+-----------+--------------------+-----------------+-----------------+\n",
            "|          FDA15|        9.3|         Low Fat|    0.016047301|               Dairy|249.8092|           OUT049|                     1999|     Medium|              Tier 1|Supermarket Type1|         3735.138|\n",
            "|          DRC01|       5.92|         Regular|    0.019278216|         Soft Drinks| 48.2692|           OUT018|                     2009|     Medium|              Tier 3|Supermarket Type2|         443.4228|\n",
            "|          FDN15|       17.5|         Low Fat|    0.016760075|                Meat| 141.618|           OUT049|                     1999|     Medium|              Tier 1|Supermarket Type1|          2097.27|\n",
            "|          FDX07|       19.2|         Regular|            0.0|Fruits and Vegeta...| 182.095|           OUT010|                     1998|       NULL|              Tier 3|    Grocery Store|           732.38|\n",
            "|          NCD19|       8.93|         Low Fat|            0.0|           Household| 53.8614|           OUT013|                     1987|       High|              Tier 3|Supermarket Type1|         994.7052|\n",
            "|          FDP36|     10.395|         Regular|            0.0|        Baking Goods| 51.4008|           OUT018|                     2009|     Medium|              Tier 3|Supermarket Type2|         556.6088|\n",
            "|          FDO10|      13.65|         Regular|    0.012741089|         Snack Foods| 57.6588|           OUT013|                     1987|       High|              Tier 3|Supermarket Type1|         343.5528|\n",
            "|          FDP10|       NULL|         Low Fat|    0.127469857|         Snack Foods|107.7622|           OUT027|                     1985|     Medium|              Tier 3|Supermarket Type3|        4022.7636|\n",
            "|          FDH17|       16.2|         Regular|    0.016687114|        Frozen Foods| 96.9726|           OUT045|                     2002|       NULL|              Tier 2|Supermarket Type1|        1076.5986|\n",
            "|          FDU28|       19.2|         Regular|     0.09444959|        Frozen Foods|187.8214|           OUT017|                     2007|       NULL|              Tier 2|Supermarket Type1|         4710.535|\n",
            "|          FDY07|       11.8|         Low Fat|            0.0|Fruits and Vegeta...| 45.5402|           OUT049|                     1999|     Medium|              Tier 1|Supermarket Type1|        1516.0266|\n",
            "|          FDA03|       18.5|         Regular|    0.045463773|               Dairy|144.1102|           OUT046|                     1997|      Small|              Tier 1|Supermarket Type1|         2187.153|\n",
            "|          FDX32|       15.1|         Regular|      0.1000135|Fruits and Vegeta...|145.4786|           OUT049|                     1999|     Medium|              Tier 1|Supermarket Type1|        1589.2646|\n",
            "|          FDS46|       17.6|         Regular|    0.047257328|         Snack Foods|119.6782|           OUT046|                     1997|      Small|              Tier 1|Supermarket Type1|        2145.2076|\n",
            "|          FDF32|      16.35|         Low Fat|      0.0680243|Fruits and Vegeta...|196.4426|           OUT013|                     1987|       High|              Tier 3|Supermarket Type1|         1977.426|\n",
            "|          FDP49|        9.0|         Regular|    0.069088961|           Breakfast| 56.3614|           OUT046|                     1997|      Small|              Tier 1|Supermarket Type1|        1547.3192|\n",
            "|          NCB42|       11.8|         Low Fat|    0.008596051|  Health and Hygiene|115.3492|           OUT018|                     2009|     Medium|              Tier 3|Supermarket Type2|        1621.8888|\n",
            "|          FDP49|        9.0|         Regular|    0.069196376|           Breakfast| 54.3614|           OUT049|                     1999|     Medium|              Tier 1|Supermarket Type1|         718.3982|\n",
            "|          DRI11|       NULL|         Low Fat|    0.034237682|         Hard Drinks|113.2834|           OUT027|                     1985|     Medium|              Tier 3|Supermarket Type3|         2303.668|\n",
            "|          FDU02|      13.35|         Low Fat|     0.10249212|               Dairy|230.5352|           OUT035|                     2004|      Small|              Tier 2|Supermarket Type1|        2748.4224|\n",
            "+---------------+-----------+----------------+---------------+--------------------+--------+-----------------+-------------------------+-----------+--------------------+-----------------+-----------------+\n",
            "only showing top 20 rows\n",
            "\n"
          ]
        }
      ]
    },
    {
      "cell_type": "code",
      "source": [
        "from pyspark.sql import window"
      ],
      "metadata": {
        "id": "pe5Afkwm8IrA"
      },
      "execution_count": 34,
      "outputs": []
    },
    {
      "cell_type": "markdown",
      "source": [
        "Row_number()Function"
      ],
      "metadata": {
        "id": "a_MMfDaeSmk1"
      }
    },
    {
      "cell_type": "code",
      "source": [
        "from pyspark.sql.functions import row_number\n",
        "from pyspark.sql import window\n",
        "\n",
        "df.withColumn('rowCol', row_number().over(window.OrderBy('Item_Identifier'))).show()"
      ],
      "metadata": {
        "colab": {
          "base_uri": "https://localhost:8080/"
        },
        "id": "jbalyGXJ9ktI",
        "outputId": "69ea92b6-8516-425b-f6ce-b978a9515e81"
      },
      "execution_count": 37,
      "outputs": [
        {
          "output_type": "stream",
          "name": "stdout",
          "text": [
            "+---------------+-----------+----------------+---------------+-----------+--------+-----------------+-------------------------+-----------+--------------------+-----------------+-----------------+------+\n",
            "|Item_Identifier|Item_Weight|Item_Fat_Content|Item_Visibility|  Item_Type|Item_MRP|Outlet_Identifier|Outlet_Establishment_Year|Outlet_Size|Outlet_Location_Type|      Outlet_Type|Item_Outlet_Sales|rowCol|\n",
            "+---------------+-----------+----------------+---------------+-----------+--------+-----------------+-------------------------+-----------+--------------------+-----------------+-----------------+------+\n",
            "|          DRA12|       11.6|         Low Fat|    0.041177505|Soft Drinks|140.3154|           OUT017|                     2007|       NULL|              Tier 2|Supermarket Type1|        2552.6772|     1|\n",
            "|          DRA12|       11.6|         Low Fat|            0.0|Soft Drinks|141.6154|           OUT045|                     2002|       NULL|              Tier 2|Supermarket Type1|        3829.0158|     2|\n",
            "|          DRA12|       11.6|         Low Fat|    0.040911824|Soft Drinks|142.3154|           OUT013|                     1987|       High|              Tier 3|Supermarket Type1|        2552.6772|     3|\n",
            "|          DRA12|       11.6|              LF|            0.0|Soft Drinks|141.9154|           OUT035|                     2004|      Small|              Tier 2|Supermarket Type1|         992.7078|     4|\n",
            "|          DRA12|       11.6|         Low Fat|    0.041112694|Soft Drinks|142.0154|           OUT018|                     2009|     Medium|              Tier 3|Supermarket Type2|         850.8924|     5|\n",
            "|          DRA12|       11.6|         Low Fat|    0.068535039|Soft Drinks|143.0154|           OUT010|                     1998|       NULL|              Tier 3|    Grocery Store|         283.6308|     6|\n",
            "|          DRA24|      19.35|         Regular|    0.040154087|Soft Drinks|164.6868|           OUT017|                     2007|       NULL|              Tier 2|Supermarket Type1|        1146.5076|     7|\n",
            "|          DRA24|       NULL|         Regular|    0.039734882|Soft Drinks|165.7868|           OUT027|                     1985|     Medium|              Tier 3|Supermarket Type3|         4913.604|     8|\n",
            "|          DRA24|      19.35|         Regular|    0.039920687|Soft Drinks|163.3868|           OUT035|                     2004|      Small|              Tier 2|Supermarket Type1|        3439.5228|     9|\n",
            "|          DRA24|       NULL|         Regular|    0.069909188|Soft Drinks|163.2868|           OUT019|                     1985|      Small|              Tier 1|    Grocery Store|         491.3604|    10|\n",
            "|          DRA24|      19.35|         Regular|    0.066831682|Soft Drinks|163.8868|           OUT010|                     1998|       NULL|              Tier 3|    Grocery Store|         327.5736|    11|\n",
            "|          DRA24|      19.35|         Regular|    0.039990314|Soft Drinks|165.0868|           OUT049|                     1999|     Medium|              Tier 1|Supermarket Type1|         982.7208|    12|\n",
            "|          DRA24|      19.35|         Regular|    0.039895009|Soft Drinks|162.4868|           OUT013|                     1987|       High|              Tier 3|Supermarket Type1|        4422.2436|    13|\n",
            "|          DRA59|       8.27|         Regular|    0.127927931|Soft Drinks|184.8924|           OUT046|                     1997|      Small|              Tier 1|Supermarket Type1|        4442.2176|    14|\n",
            "|          DRA59|       8.27|         Regular|    0.128126825|Soft Drinks|183.6924|           OUT049|                     1999|     Medium|              Tier 1|Supermarket Type1|        1295.6468|    15|\n",
            "|          DRA59|       8.27|         Regular|    0.127821472|Soft Drinks|185.9924|           OUT013|                     1987|       High|              Tier 3|Supermarket Type1|         555.2772|    16|\n",
            "|          DRA59|       8.27|         Regular|            0.0|Soft Drinks|183.2924|           OUT017|                     2007|       NULL|              Tier 2|Supermarket Type1|        2406.2012|    17|\n",
            "|          DRA59|       NULL|         Regular|    0.127308434|Soft Drinks|186.6924|           OUT027|                     1985|     Medium|              Tier 3|Supermarket Type3|        7033.5112|    18|\n",
            "|          DRA59|       NULL|         Regular|    0.223985293|Soft Drinks|186.2924|           OUT019|                     1985|      Small|              Tier 1|    Grocery Store|         555.2772|    19|\n",
            "|          DRA59|       8.27|         Regular|    0.128449055|Soft Drinks|186.5924|           OUT018|                     2009|     Medium|              Tier 3|Supermarket Type2|        4442.2176|    20|\n",
            "+---------------+-----------+----------------+---------------+-----------+--------+-----------------+-------------------------+-----------+--------------------+-----------------+-----------------+------+\n",
            "only showing top 20 rows\n",
            "\n"
          ]
        }
      ]
    },
    {
      "cell_type": "markdown",
      "source": [
        "Rank & Dense Rank"
      ],
      "metadata": {
        "id": "NgtAE9zwS71q"
      }
    },
    {
      "cell_type": "code",
      "source": [
        "from pyspark.sql.functions import rank\n",
        "from pyspark.sql.window import Window\n",
        "\n",
        "\n",
        "\n",
        "df.withColumn(\"rank\", rank().over(Window.orderBy(\"item_identifier\"))).show()"
      ],
      "metadata": {
        "colab": {
          "base_uri": "https://localhost:8080/"
        },
        "id": "TSC5kB-KXwNU",
        "outputId": "50ee1a5f-6c65-4304-d5ef-363e2e6b6e3e"
      },
      "execution_count": 46,
      "outputs": [
        {
          "output_type": "stream",
          "name": "stdout",
          "text": [
            "+---------------+-----------+----------------+---------------+-----------+--------+-----------------+-------------------------+-----------+--------------------+-----------------+-----------------+----+\n",
            "|Item_Identifier|Item_Weight|Item_Fat_Content|Item_Visibility|  Item_Type|Item_MRP|Outlet_Identifier|Outlet_Establishment_Year|Outlet_Size|Outlet_Location_Type|      Outlet_Type|Item_Outlet_Sales|rank|\n",
            "+---------------+-----------+----------------+---------------+-----------+--------+-----------------+-------------------------+-----------+--------------------+-----------------+-----------------+----+\n",
            "|          DRA12|       11.6|         Low Fat|    0.041177505|Soft Drinks|140.3154|           OUT017|                     2007|       NULL|              Tier 2|Supermarket Type1|        2552.6772|   1|\n",
            "|          DRA12|       11.6|         Low Fat|            0.0|Soft Drinks|141.6154|           OUT045|                     2002|       NULL|              Tier 2|Supermarket Type1|        3829.0158|   1|\n",
            "|          DRA12|       11.6|         Low Fat|    0.040911824|Soft Drinks|142.3154|           OUT013|                     1987|       High|              Tier 3|Supermarket Type1|        2552.6772|   1|\n",
            "|          DRA12|       11.6|              LF|            0.0|Soft Drinks|141.9154|           OUT035|                     2004|      Small|              Tier 2|Supermarket Type1|         992.7078|   1|\n",
            "|          DRA12|       11.6|         Low Fat|    0.041112694|Soft Drinks|142.0154|           OUT018|                     2009|     Medium|              Tier 3|Supermarket Type2|         850.8924|   1|\n",
            "|          DRA12|       11.6|         Low Fat|    0.068535039|Soft Drinks|143.0154|           OUT010|                     1998|       NULL|              Tier 3|    Grocery Store|         283.6308|   1|\n",
            "|          DRA24|      19.35|         Regular|    0.040154087|Soft Drinks|164.6868|           OUT017|                     2007|       NULL|              Tier 2|Supermarket Type1|        1146.5076|   7|\n",
            "|          DRA24|       NULL|         Regular|    0.039734882|Soft Drinks|165.7868|           OUT027|                     1985|     Medium|              Tier 3|Supermarket Type3|         4913.604|   7|\n",
            "|          DRA24|      19.35|         Regular|    0.039920687|Soft Drinks|163.3868|           OUT035|                     2004|      Small|              Tier 2|Supermarket Type1|        3439.5228|   7|\n",
            "|          DRA24|       NULL|         Regular|    0.069909188|Soft Drinks|163.2868|           OUT019|                     1985|      Small|              Tier 1|    Grocery Store|         491.3604|   7|\n",
            "|          DRA24|      19.35|         Regular|    0.066831682|Soft Drinks|163.8868|           OUT010|                     1998|       NULL|              Tier 3|    Grocery Store|         327.5736|   7|\n",
            "|          DRA24|      19.35|         Regular|    0.039990314|Soft Drinks|165.0868|           OUT049|                     1999|     Medium|              Tier 1|Supermarket Type1|         982.7208|   7|\n",
            "|          DRA24|      19.35|         Regular|    0.039895009|Soft Drinks|162.4868|           OUT013|                     1987|       High|              Tier 3|Supermarket Type1|        4422.2436|   7|\n",
            "|          DRA59|       8.27|         Regular|    0.127927931|Soft Drinks|184.8924|           OUT046|                     1997|      Small|              Tier 1|Supermarket Type1|        4442.2176|  14|\n",
            "|          DRA59|       8.27|         Regular|    0.128126825|Soft Drinks|183.6924|           OUT049|                     1999|     Medium|              Tier 1|Supermarket Type1|        1295.6468|  14|\n",
            "|          DRA59|       8.27|         Regular|    0.127821472|Soft Drinks|185.9924|           OUT013|                     1987|       High|              Tier 3|Supermarket Type1|         555.2772|  14|\n",
            "|          DRA59|       8.27|         Regular|            0.0|Soft Drinks|183.2924|           OUT017|                     2007|       NULL|              Tier 2|Supermarket Type1|        2406.2012|  14|\n",
            "|          DRA59|       NULL|         Regular|    0.127308434|Soft Drinks|186.6924|           OUT027|                     1985|     Medium|              Tier 3|Supermarket Type3|        7033.5112|  14|\n",
            "|          DRA59|       NULL|         Regular|    0.223985293|Soft Drinks|186.2924|           OUT019|                     1985|      Small|              Tier 1|    Grocery Store|         555.2772|  14|\n",
            "|          DRA59|       8.27|         Regular|    0.128449055|Soft Drinks|186.5924|           OUT018|                     2009|     Medium|              Tier 3|Supermarket Type2|        4442.2176|  14|\n",
            "+---------------+-----------+----------------+---------------+-----------+--------+-----------------+-------------------------+-----------+--------------------+-----------------+-----------------+----+\n",
            "only showing top 20 rows\n",
            "\n"
          ]
        }
      ]
    },
    {
      "cell_type": "code",
      "source": [
        "#arrange in desc first\n",
        "from pyspark.sql.functions import rank\n",
        "from pyspark.sql.window import Window\n",
        "from pyspark.sql.functions import col\n",
        "\n",
        "\n",
        "\n",
        "df.withColumn(\"rank\", rank().over(Window.orderBy(col('Item_Identifier').desc()))).show()"
      ],
      "metadata": {
        "colab": {
          "base_uri": "https://localhost:8080/"
        },
        "id": "C3a35W5HZD39",
        "outputId": "3f1cc91e-6a5d-44d9-aec5-677fee16309a"
      },
      "execution_count": 47,
      "outputs": [
        {
          "output_type": "stream",
          "name": "stdout",
          "text": [
            "+---------------+-----------+----------------+---------------+------------------+--------+-----------------+-------------------------+-----------+--------------------+-----------------+-----------------+----+\n",
            "|Item_Identifier|Item_Weight|Item_Fat_Content|Item_Visibility|         Item_Type|Item_MRP|Outlet_Identifier|Outlet_Establishment_Year|Outlet_Size|Outlet_Location_Type|      Outlet_Type|Item_Outlet_Sales|rank|\n",
            "+---------------+-----------+----------------+---------------+------------------+--------+-----------------+-------------------------+-----------+--------------------+-----------------+-----------------+----+\n",
            "|          NCZ54|      14.65|         Low Fat|    0.083359391|         Household|161.9552|           OUT046|                     1997|      Small|              Tier 1|Supermarket Type1|        4711.2008|   1|\n",
            "|          NCZ54|       NULL|         Low Fat|    0.082955719|         Household|164.0552|           OUT027|                     1985|     Medium|              Tier 3|Supermarket Type3|        5523.4768|   1|\n",
            "|          NCZ54|      14.65|         Low Fat|    0.083528446|         Household|162.4552|           OUT045|                     2002|       NULL|              Tier 2|Supermarket Type1|        2274.3728|   1|\n",
            "|          NCZ54|      14.65|         Low Fat|            0.0|         Household|161.5552|           OUT010|                     1998|       NULL|              Tier 3|    Grocery Store|         324.9104|   1|\n",
            "|          NCZ54|       NULL|         Low Fat|    0.145951533|         Household|160.9552|           OUT019|                     1985|      Small|              Tier 1|    Grocery Store|         162.4552|   1|\n",
            "|          NCZ54|      14.65|         Low Fat|    0.083698962|         Household|163.4552|           OUT018|                     2009|     Medium|              Tier 3|Supermarket Type2|        2599.2832|   1|\n",
            "|          NCZ54|      14.65|         Low Fat|    0.083488992|         Household|161.3552|           OUT049|                     1999|     Medium|              Tier 1|Supermarket Type1|        7148.0288|   1|\n",
            "|          NCZ53|        9.6|         Low Fat|    0.040969757|Health and Hygiene|188.7214|           OUT010|                     1998|       NULL|              Tier 3|    Grocery Store|         376.8428|   8|\n",
            "|          NCZ53|       NULL|         Low Fat|    0.024358634|Health and Hygiene|190.4214|           OUT027|                     1985|     Medium|              Tier 3|Supermarket Type3|         5652.642|   8|\n",
            "|          NCZ53|        9.6|         Low Fat|    0.024576875|Health and Hygiene|186.6214|           OUT018|                     2009|     Medium|              Tier 3|Supermarket Type2|         1884.214|   8|\n",
            "|          NCZ53|        9.6|         Low Fat|    0.024456797|Health and Hygiene|186.6214|           OUT013|                     1987|       High|              Tier 3|Supermarket Type1|        3203.1638|   8|\n",
            "|          NCZ53|        9.6|         Low Fat|    0.024515221|Health and Hygiene|189.2214|           OUT049|                     1999|     Medium|              Tier 1|Supermarket Type1|        3956.8494|   8|\n",
            "|          NCZ42|       10.5|         Low Fat|            0.0|         Household|238.3248|           OUT010|                     1998|       NULL|              Tier 3|    Grocery Store|         711.0744|  13|\n",
            "|          NCZ42|       10.5|         Low Fat|    0.011351778|         Household|236.5248|           OUT017|                     2007|       NULL|              Tier 2|Supermarket Type1|        4029.4216|  13|\n",
            "|          NCZ42|       10.5|         Low Fat|    0.011278535|         Household|237.0248|           OUT013|                     1987|       High|              Tier 3|Supermarket Type1|        5451.5704|  13|\n",
            "|          NCZ42|       10.5|         Low Fat|    0.011285795|         Household|235.8248|           OUT035|                     2004|      Small|              Tier 2|Supermarket Type1|        4266.4464|  13|\n",
            "|          NCZ42|       10.5|              LF|    0.011305479|         Household|235.5248|           OUT049|                     1999|     Medium|              Tier 1|Supermarket Type1|         4740.496|  13|\n",
            "|          NCZ41|      19.85|         Low Fat|    0.064367627|Health and Hygiene|126.1704|           OUT013|                     1987|       High|              Tier 3|Supermarket Type1|         876.1928|  18|\n",
            "|          NCZ41|      19.85|         Low Fat|    0.064409056|Health and Hygiene|126.7704|           OUT035|                     2004|      Small|              Tier 2|Supermarket Type1|        1752.3856|  18|\n",
            "|          NCZ41|      19.85|         Low Fat|    0.064551885|Health and Hygiene|125.2704|           OUT045|                     2002|       NULL|              Tier 2|Supermarket Type1|        2127.8968|  18|\n",
            "+---------------+-----------+----------------+---------------+------------------+--------+-----------------+-------------------------+-----------+--------------------+-----------------+-----------------+----+\n",
            "only showing top 20 rows\n",
            "\n"
          ]
        }
      ]
    },
    {
      "cell_type": "code",
      "source": [
        "#Dense rank\n",
        "\n",
        "from pyspark.sql.functions import dense_rank\n",
        "from pyspark.sql.window import Window\n",
        "from pyspark.sql.functions import col\n",
        "\n",
        "\n",
        "\n",
        "df.withColumn(\"rank\", dense_rank().over(Window.orderBy(col('Item_Identifier').desc()))).show()"
      ],
      "metadata": {
        "colab": {
          "base_uri": "https://localhost:8080/"
        },
        "id": "om8-oVK9cgZD",
        "outputId": "10f14fe7-4fcf-4d88-d472-45153c03b00e"
      },
      "execution_count": 51,
      "outputs": [
        {
          "output_type": "stream",
          "name": "stdout",
          "text": [
            "+---------------+-----------+----------------+---------------+------------------+--------+-----------------+-------------------------+-----------+--------------------+-----------------+-----------------+----+\n",
            "|Item_Identifier|Item_Weight|Item_Fat_Content|Item_Visibility|         Item_Type|Item_MRP|Outlet_Identifier|Outlet_Establishment_Year|Outlet_Size|Outlet_Location_Type|      Outlet_Type|Item_Outlet_Sales|rank|\n",
            "+---------------+-----------+----------------+---------------+------------------+--------+-----------------+-------------------------+-----------+--------------------+-----------------+-----------------+----+\n",
            "|          NCZ54|      14.65|         Low Fat|    0.083359391|         Household|161.9552|           OUT046|                     1997|      Small|              Tier 1|Supermarket Type1|        4711.2008|   1|\n",
            "|          NCZ54|       NULL|         Low Fat|    0.082955719|         Household|164.0552|           OUT027|                     1985|     Medium|              Tier 3|Supermarket Type3|        5523.4768|   1|\n",
            "|          NCZ54|      14.65|         Low Fat|    0.083528446|         Household|162.4552|           OUT045|                     2002|       NULL|              Tier 2|Supermarket Type1|        2274.3728|   1|\n",
            "|          NCZ54|      14.65|         Low Fat|            0.0|         Household|161.5552|           OUT010|                     1998|       NULL|              Tier 3|    Grocery Store|         324.9104|   1|\n",
            "|          NCZ54|       NULL|         Low Fat|    0.145951533|         Household|160.9552|           OUT019|                     1985|      Small|              Tier 1|    Grocery Store|         162.4552|   1|\n",
            "|          NCZ54|      14.65|         Low Fat|    0.083698962|         Household|163.4552|           OUT018|                     2009|     Medium|              Tier 3|Supermarket Type2|        2599.2832|   1|\n",
            "|          NCZ54|      14.65|         Low Fat|    0.083488992|         Household|161.3552|           OUT049|                     1999|     Medium|              Tier 1|Supermarket Type1|        7148.0288|   1|\n",
            "|          NCZ53|        9.6|         Low Fat|    0.040969757|Health and Hygiene|188.7214|           OUT010|                     1998|       NULL|              Tier 3|    Grocery Store|         376.8428|   2|\n",
            "|          NCZ53|       NULL|         Low Fat|    0.024358634|Health and Hygiene|190.4214|           OUT027|                     1985|     Medium|              Tier 3|Supermarket Type3|         5652.642|   2|\n",
            "|          NCZ53|        9.6|         Low Fat|    0.024576875|Health and Hygiene|186.6214|           OUT018|                     2009|     Medium|              Tier 3|Supermarket Type2|         1884.214|   2|\n",
            "|          NCZ53|        9.6|         Low Fat|    0.024456797|Health and Hygiene|186.6214|           OUT013|                     1987|       High|              Tier 3|Supermarket Type1|        3203.1638|   2|\n",
            "|          NCZ53|        9.6|         Low Fat|    0.024515221|Health and Hygiene|189.2214|           OUT049|                     1999|     Medium|              Tier 1|Supermarket Type1|        3956.8494|   2|\n",
            "|          NCZ42|       10.5|         Low Fat|            0.0|         Household|238.3248|           OUT010|                     1998|       NULL|              Tier 3|    Grocery Store|         711.0744|   3|\n",
            "|          NCZ42|       10.5|         Low Fat|    0.011351778|         Household|236.5248|           OUT017|                     2007|       NULL|              Tier 2|Supermarket Type1|        4029.4216|   3|\n",
            "|          NCZ42|       10.5|         Low Fat|    0.011278535|         Household|237.0248|           OUT013|                     1987|       High|              Tier 3|Supermarket Type1|        5451.5704|   3|\n",
            "|          NCZ42|       10.5|         Low Fat|    0.011285795|         Household|235.8248|           OUT035|                     2004|      Small|              Tier 2|Supermarket Type1|        4266.4464|   3|\n",
            "|          NCZ42|       10.5|              LF|    0.011305479|         Household|235.5248|           OUT049|                     1999|     Medium|              Tier 1|Supermarket Type1|         4740.496|   3|\n",
            "|          NCZ41|      19.85|         Low Fat|    0.064367627|Health and Hygiene|126.1704|           OUT013|                     1987|       High|              Tier 3|Supermarket Type1|         876.1928|   4|\n",
            "|          NCZ41|      19.85|         Low Fat|    0.064409056|Health and Hygiene|126.7704|           OUT035|                     2004|      Small|              Tier 2|Supermarket Type1|        1752.3856|   4|\n",
            "|          NCZ41|      19.85|         Low Fat|    0.064551885|Health and Hygiene|125.2704|           OUT045|                     2002|       NULL|              Tier 2|Supermarket Type1|        2127.8968|   4|\n",
            "+---------------+-----------+----------------+---------------+------------------+--------+-----------------+-------------------------+-----------+--------------------+-----------------+-----------------+----+\n",
            "only showing top 20 rows\n",
            "\n"
          ]
        }
      ]
    },
    {
      "cell_type": "markdown",
      "source": [
        "Tasks/Project"
      ],
      "metadata": {
        "id": "pRVgdAyjer9-"
      }
    },
    {
      "cell_type": "code",
      "source": [
        "from google.colab import files\n",
        "\n",
        "uploaded = files.upload()"
      ],
      "metadata": {
        "colab": {
          "base_uri": "https://localhost:8080/",
          "height": 73
        },
        "id": "JX7LW2_8hRW9",
        "outputId": "f77691d2-ceed-4893-cf0e-d5858970a7e4"
      },
      "execution_count": 54,
      "outputs": [
        {
          "output_type": "display_data",
          "data": {
            "text/plain": [
              "<IPython.core.display.HTML object>"
            ],
            "text/html": [
              "\n",
              "     <input type=\"file\" id=\"files-74658fda-e67c-4048-a318-b5c5e4bc586d\" name=\"files[]\" multiple disabled\n",
              "        style=\"border:none\" />\n",
              "     <output id=\"result-74658fda-e67c-4048-a318-b5c5e4bc586d\">\n",
              "      Upload widget is only available when the cell has been executed in the\n",
              "      current browser session. Please rerun this cell to enable.\n",
              "      </output>\n",
              "      <script>// Copyright 2017 Google LLC\n",
              "//\n",
              "// Licensed under the Apache License, Version 2.0 (the \"License\");\n",
              "// you may not use this file except in compliance with the License.\n",
              "// You may obtain a copy of the License at\n",
              "//\n",
              "//      http://www.apache.org/licenses/LICENSE-2.0\n",
              "//\n",
              "// Unless required by applicable law or agreed to in writing, software\n",
              "// distributed under the License is distributed on an \"AS IS\" BASIS,\n",
              "// WITHOUT WARRANTIES OR CONDITIONS OF ANY KIND, either express or implied.\n",
              "// See the License for the specific language governing permissions and\n",
              "// limitations under the License.\n",
              "\n",
              "/**\n",
              " * @fileoverview Helpers for google.colab Python module.\n",
              " */\n",
              "(function(scope) {\n",
              "function span(text, styleAttributes = {}) {\n",
              "  const element = document.createElement('span');\n",
              "  element.textContent = text;\n",
              "  for (const key of Object.keys(styleAttributes)) {\n",
              "    element.style[key] = styleAttributes[key];\n",
              "  }\n",
              "  return element;\n",
              "}\n",
              "\n",
              "// Max number of bytes which will be uploaded at a time.\n",
              "const MAX_PAYLOAD_SIZE = 100 * 1024;\n",
              "\n",
              "function _uploadFiles(inputId, outputId) {\n",
              "  const steps = uploadFilesStep(inputId, outputId);\n",
              "  const outputElement = document.getElementById(outputId);\n",
              "  // Cache steps on the outputElement to make it available for the next call\n",
              "  // to uploadFilesContinue from Python.\n",
              "  outputElement.steps = steps;\n",
              "\n",
              "  return _uploadFilesContinue(outputId);\n",
              "}\n",
              "\n",
              "// This is roughly an async generator (not supported in the browser yet),\n",
              "// where there are multiple asynchronous steps and the Python side is going\n",
              "// to poll for completion of each step.\n",
              "// This uses a Promise to block the python side on completion of each step,\n",
              "// then passes the result of the previous step as the input to the next step.\n",
              "function _uploadFilesContinue(outputId) {\n",
              "  const outputElement = document.getElementById(outputId);\n",
              "  const steps = outputElement.steps;\n",
              "\n",
              "  const next = steps.next(outputElement.lastPromiseValue);\n",
              "  return Promise.resolve(next.value.promise).then((value) => {\n",
              "    // Cache the last promise value to make it available to the next\n",
              "    // step of the generator.\n",
              "    outputElement.lastPromiseValue = value;\n",
              "    return next.value.response;\n",
              "  });\n",
              "}\n",
              "\n",
              "/**\n",
              " * Generator function which is called between each async step of the upload\n",
              " * process.\n",
              " * @param {string} inputId Element ID of the input file picker element.\n",
              " * @param {string} outputId Element ID of the output display.\n",
              " * @return {!Iterable<!Object>} Iterable of next steps.\n",
              " */\n",
              "function* uploadFilesStep(inputId, outputId) {\n",
              "  const inputElement = document.getElementById(inputId);\n",
              "  inputElement.disabled = false;\n",
              "\n",
              "  const outputElement = document.getElementById(outputId);\n",
              "  outputElement.innerHTML = '';\n",
              "\n",
              "  const pickedPromise = new Promise((resolve) => {\n",
              "    inputElement.addEventListener('change', (e) => {\n",
              "      resolve(e.target.files);\n",
              "    });\n",
              "  });\n",
              "\n",
              "  const cancel = document.createElement('button');\n",
              "  inputElement.parentElement.appendChild(cancel);\n",
              "  cancel.textContent = 'Cancel upload';\n",
              "  const cancelPromise = new Promise((resolve) => {\n",
              "    cancel.onclick = () => {\n",
              "      resolve(null);\n",
              "    };\n",
              "  });\n",
              "\n",
              "  // Wait for the user to pick the files.\n",
              "  const files = yield {\n",
              "    promise: Promise.race([pickedPromise, cancelPromise]),\n",
              "    response: {\n",
              "      action: 'starting',\n",
              "    }\n",
              "  };\n",
              "\n",
              "  cancel.remove();\n",
              "\n",
              "  // Disable the input element since further picks are not allowed.\n",
              "  inputElement.disabled = true;\n",
              "\n",
              "  if (!files) {\n",
              "    return {\n",
              "      response: {\n",
              "        action: 'complete',\n",
              "      }\n",
              "    };\n",
              "  }\n",
              "\n",
              "  for (const file of files) {\n",
              "    const li = document.createElement('li');\n",
              "    li.append(span(file.name, {fontWeight: 'bold'}));\n",
              "    li.append(span(\n",
              "        `(${file.type || 'n/a'}) - ${file.size} bytes, ` +\n",
              "        `last modified: ${\n",
              "            file.lastModifiedDate ? file.lastModifiedDate.toLocaleDateString() :\n",
              "                                    'n/a'} - `));\n",
              "    const percent = span('0% done');\n",
              "    li.appendChild(percent);\n",
              "\n",
              "    outputElement.appendChild(li);\n",
              "\n",
              "    const fileDataPromise = new Promise((resolve) => {\n",
              "      const reader = new FileReader();\n",
              "      reader.onload = (e) => {\n",
              "        resolve(e.target.result);\n",
              "      };\n",
              "      reader.readAsArrayBuffer(file);\n",
              "    });\n",
              "    // Wait for the data to be ready.\n",
              "    let fileData = yield {\n",
              "      promise: fileDataPromise,\n",
              "      response: {\n",
              "        action: 'continue',\n",
              "      }\n",
              "    };\n",
              "\n",
              "    // Use a chunked sending to avoid message size limits. See b/62115660.\n",
              "    let position = 0;\n",
              "    do {\n",
              "      const length = Math.min(fileData.byteLength - position, MAX_PAYLOAD_SIZE);\n",
              "      const chunk = new Uint8Array(fileData, position, length);\n",
              "      position += length;\n",
              "\n",
              "      const base64 = btoa(String.fromCharCode.apply(null, chunk));\n",
              "      yield {\n",
              "        response: {\n",
              "          action: 'append',\n",
              "          file: file.name,\n",
              "          data: base64,\n",
              "        },\n",
              "      };\n",
              "\n",
              "      let percentDone = fileData.byteLength === 0 ?\n",
              "          100 :\n",
              "          Math.round((position / fileData.byteLength) * 100);\n",
              "      percent.textContent = `${percentDone}% done`;\n",
              "\n",
              "    } while (position < fileData.byteLength);\n",
              "  }\n",
              "\n",
              "  // All done.\n",
              "  yield {\n",
              "    response: {\n",
              "      action: 'complete',\n",
              "    }\n",
              "  };\n",
              "}\n",
              "\n",
              "scope.google = scope.google || {};\n",
              "scope.google.colab = scope.google.colab || {};\n",
              "scope.google.colab._files = {\n",
              "  _uploadFiles,\n",
              "  _uploadFilesContinue,\n",
              "};\n",
              "})(self);\n",
              "</script> "
            ]
          },
          "metadata": {}
        },
        {
          "output_type": "stream",
          "name": "stdout",
          "text": [
            "Saving customer_transaction_data.csv to customer_transaction_data.csv\n"
          ]
        }
      ]
    },
    {
      "cell_type": "code",
      "source": [
        "df = spark.read.csv('customer_transaction_data.csv', header=True,inferSchema=True)\n",
        "\n",
        "df.show()"
      ],
      "metadata": {
        "colab": {
          "base_uri": "https://localhost:8080/"
        },
        "id": "Uner_2_Jhs9s",
        "outputId": "56991d53-a1f7-43d2-a78f-c20eeed2e3df"
      },
      "execution_count": 55,
      "outputs": [
        {
          "output_type": "stream",
          "name": "stdout",
          "text": [
            "+-----------+------+--------+-----------+------+----------+----+---------+\n",
            "|customer_id|txn_id| product|   category|amount|  txn_date|name|     city|\n",
            "+-----------+------+--------+-----------+------+----------+----+---------+\n",
            "|          1|   101|ProductA|Electronics|   500|2024-05-01| Ali|   Lahore|\n",
            "|          1|   102|ProductB|Electronics|   700|2024-06-01| Ali|   Lahore|\n",
            "|          2|   103|ProductC|    Fashion|   200|2024-06-02|Sara|  Karachi|\n",
            "|          2|   104|ProductB|Electronics|   700|2024-06-05|Sara|  Karachi|\n",
            "|          3|   105|ProductA|Electronics|   500|2024-05-02|John|Islamabad|\n",
            "+-----------+------+--------+-----------+------+----------+----+---------+\n",
            "\n"
          ]
        }
      ]
    },
    {
      "cell_type": "code",
      "source": [
        "from pyspark.sql import SparkSession\n",
        "from pyspark.sql.functions import row_number, rank, dense_rank, sum as _sum\n",
        "from pyspark.sql.window import Window"
      ],
      "metadata": {
        "id": "XNkCjQNUiZ-m"
      },
      "execution_count": 56,
      "outputs": []
    },
    {
      "cell_type": "code",
      "source": [
        "# Creating a window for customer-wise transaction ordering\n",
        "txn_window = Window.partitionBy(\"customer_id\").orderBy(df[\"txn_date\"].desc())\n",
        "\n",
        "# Adding row numbers and filter only the latest transaction per customer\n",
        "from pyspark.sql.functions import row_number\n",
        "\n",
        "latest_txn_df = df.withColumn(\"row_num\", row_number().over(txn_window))\n",
        "latest_txn_df = latest_txn_df.filter(latest_txn_df[\"row_num\"] == 1).drop(\"row_num\")\n",
        "\n",
        "\n",
        "latest_txn_df.show()"
      ],
      "metadata": {
        "colab": {
          "base_uri": "https://localhost:8080/"
        },
        "id": "CyY1Eignj3AM",
        "outputId": "4879cdf9-e24c-40db-c4be-102c1f52d1da"
      },
      "execution_count": 57,
      "outputs": [
        {
          "output_type": "stream",
          "name": "stdout",
          "text": [
            "+-----------+------+--------+-----------+------+----------+----+---------+\n",
            "|customer_id|txn_id| product|   category|amount|  txn_date|name|     city|\n",
            "+-----------+------+--------+-----------+------+----------+----+---------+\n",
            "|          1|   102|ProductB|Electronics|   700|2024-06-01| Ali|   Lahore|\n",
            "|          2|   104|ProductB|Electronics|   700|2024-06-05|Sara|  Karachi|\n",
            "|          3|   105|ProductA|Electronics|   500|2024-05-02|John|Islamabad|\n",
            "+-----------+------+--------+-----------+------+----------+----+---------+\n",
            "\n"
          ]
        }
      ]
    },
    {
      "cell_type": "code",
      "source": [
        "#Now Rank products by revenue in each category\n",
        "from pyspark.sql.window import Window\n",
        "from pyspark.sql.functions import dense_rank, sum as _sum\n",
        "\n",
        "\n",
        "# Step 1: Compute total revenue per product-category and set a clean column name\n",
        "revenue_df = df.groupBy(\"product\", \"category\") \\\n",
        "               .agg(_sum(\"amount\").alias(\"total_revenue\"))  # <-- use alias here\n",
        "\n",
        "# Step 2: Define window using column name as a string\n",
        "category_window = Window.partitionBy(\"category\").orderBy(\"total_revenue\")\n",
        "\n",
        "# Step 3: Apply dense_rank safely\n",
        "ranked_df = revenue_df.withColumn(\"dense_rank\", dense_rank().over(category_window))\n",
        "\n",
        "# Step 4: Show results\n",
        "ranked_df.show()"
      ],
      "metadata": {
        "colab": {
          "base_uri": "https://localhost:8080/"
        },
        "id": "K_rQxfgQk_1O",
        "outputId": "3012cb82-2a89-4f6e-9340-d1d3f07afdaf"
      },
      "execution_count": 64,
      "outputs": [
        {
          "output_type": "stream",
          "name": "stdout",
          "text": [
            "+--------+-----------+-------------+----------+\n",
            "| product|   category|total_revenue|dense_rank|\n",
            "+--------+-----------+-------------+----------+\n",
            "|ProductA|Electronics|         1000|         1|\n",
            "|ProductB|Electronics|         1400|         2|\n",
            "|ProductC|    Fashion|          200|         1|\n",
            "+--------+-----------+-------------+----------+\n",
            "\n"
          ]
        }
      ]
    }
  ]
}